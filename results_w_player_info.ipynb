{
 "cells": [
  {
   "cell_type": "code",
   "execution_count": 1,
   "id": "5033e9b0-63f4-473e-af9e-0590e71f51c6",
   "metadata": {},
   "outputs": [],
   "source": [
    "import pandas as pd\n",
    "\n",
    "score_data = pd.read_csv('finalResult.csv')\n",
    "player_info = pd.read_csv('players.csv')\n",
    "\n",
    "merged_df = score_data.merge(player_info, left_on='ID', right_on='nflId', how='left')\n"
   ]
  },
  {
   "cell_type": "code",
   "execution_count": 2,
   "id": "af249457-daa4-43e6-b943-8af85c66cdec",
   "metadata": {},
   "outputs": [],
   "source": [
    "merged_df.to_csv('results_w_player_info.csv', index=False)"
   ]
  },
  {
   "cell_type": "code",
   "execution_count": 3,
   "id": "6d34e626-1e01-4d93-9f25-a5c8e3173568",
   "metadata": {},
   "outputs": [],
   "source": [
    "tackleData = pd.read_csv('tackles.csv')\n",
    "tackleData = tackleData[tackleData['tackle']==1]\n",
    "values = tackleData['nflId'].value_counts()"
   ]
  },
  {
   "cell_type": "code",
   "execution_count": 4,
   "id": "71439a40-ae0b-4c3f-aa70-5c95774aa826",
   "metadata": {},
   "outputs": [
    {
     "name": "stdout",
     "output_type": "stream",
     "text": [
      "52435    61\n",
      "46269    59\n",
      "41243    55\n",
      "46304    55\n",
      "42427    54\n",
      "         ..\n",
      "54705     1\n",
      "53559     1\n",
      "52651     1\n",
      "48145     1\n",
      "52585     1\n",
      "Name: nflId, Length: 752, dtype: int64\n"
     ]
    }
   ],
   "source": [
    "print(values)"
   ]
  },
  {
   "cell_type": "code",
   "execution_count": 5,
   "id": "4fb00a06-0dd1-432c-8d78-cc54fb0a285f",
   "metadata": {},
   "outputs": [
    {
     "name": "stdout",
     "output_type": "stream",
     "text": [
      "9919\n"
     ]
    }
   ],
   "source": [
    "print(values.sum())"
   ]
  },
  {
   "cell_type": "code",
   "execution_count": null,
   "id": "76d04189-a189-4157-ad1f-e6cc84ac6174",
   "metadata": {},
   "outputs": [],
   "source": []
  }
 ],
 "metadata": {
  "kernelspec": {
   "display_name": "Python 3 (ipykernel)",
   "language": "python",
   "name": "python3"
  },
  "language_info": {
   "codemirror_mode": {
    "name": "ipython",
    "version": 3
   },
   "file_extension": ".py",
   "mimetype": "text/x-python",
   "name": "python",
   "nbconvert_exporter": "python",
   "pygments_lexer": "ipython3",
   "version": "3.9.18"
  }
 },
 "nbformat": 4,
 "nbformat_minor": 5
}
