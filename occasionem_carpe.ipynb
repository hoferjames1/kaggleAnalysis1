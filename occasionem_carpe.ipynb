{
 "cells": [
  {
   "cell_type": "markdown",
   "id": "49ab10d2-0fda-4d1f-8152-54644dd379b2",
   "metadata": {},
   "source": [
    "<div style=\"text-align: center;\">\n",
    "  <h1>Seize the Opportunity</h1>\n",
    "</div>\n"
   ]
  },
  {
   "cell_type": "markdown",
   "id": "34aa9f67-2b0d-46bf-bd03-bf648ce45b45",
   "metadata": {},
   "source": [
    "## Introduction"
   ]
  },
  {
   "cell_type": "markdown",
   "id": "4cbff18b-b853-4a33-a92d-e2dac82ec8b7",
   "metadata": {},
   "source": [
    "<div style=\"display: flex; width: 100%; line-height: 1.5;\">\n",
    "    <div style=\"width: 40%; padding-right: 20px; text-align: justify;color:#626163; font-size:1.1em;\">\n",
    "            <p>How do we measure the success of a tackler, and who earns the title of the best? \n",
    "            Is it based on standardized metrics such as the total number of tackles, \n",
    "            or is it more of an intuitive, gut feeling?</p>\n",
    "            <p>I propose that success in tackling, much like success in other occupations, hinges on a combination of <b>innate ability </b>and the <b>opportunities</b> afforded. The demonstration of skill is what propels players to the NFL, but not everyone has an equal share of opportunities.</p>\n",
    "            <p>This analysis delves into the disparity in opportunities and examines how players capitalize on them.</p>\n",
    "    </div>\n",
    "    <div style=\"width: 60%;\">\n",
    "        <img src=\"question.png\" alt=\"Intro image\" style=\"width: 100%;\">\n",
    "    </div>\n",
    "</div>\n"
   ]
  },
  {
   "cell_type": "markdown",
   "id": "3f6e3071-e038-45fd-b5d1-5ecf665b766f",
   "metadata": {},
   "source": [
    "## The Most Eligible Tackler"
   ]
  },
  {
   "cell_type": "markdown",
   "id": "4c7672f3-ab70-4f17-a59e-068648045d7d",
   "metadata": {},
   "source": [
    "\n",
    "<head>\n",
    "  <script type=\"text/javascript\" async\n",
    "    src=\"https://cdnjs.cloudflare.com/ajax/libs/mathjax/2.7.7/MathJax.js?config=TeX-MML-AM_CHTML\">\n",
    "  </script>\n",
    "</head>\n",
    "\n",
    "<span style=\"color:#626163; font-size:1.1em;\">\n",
    "    First, we need to determine who the most eligible tackler is for any given moment during a play. As a bonus, we are going to also determine who the second most eligible tackler is. <b><u>Being the eligible tackler is</b> what we are considering as <b><u>the opportunity</b> in our basic breakdown of what success looks like as a tackler.</u><br><br>\n",
    "    Here we are defining the most eligible tackler based on 3 primary measurements:<br>\n",
    "    <ol type=\"1\">\n",
    "    <li>Distance to Ball Carrier</li>\n",
    "    <li>Closing Speed</li>\n",
    "    <li>Availability</li>\n",
    "</ol><br>\n",
    "        <p>Note: Since the most eligible tackler can change from frame to frame, in this analysis the primary eligible tackler is the most occurring player for each play and the secondary eligible tackler is the second most occurring.</p>\n",
    "</span>\n",
    "<span style=\"font-size:1.2em;\">\n",
    "    <b>Descriptions:</b><br>\n",
    "</span>\n",
    "<span style=\"color:#626163; font-size:1.1em;\">\n",
    "    <b>Distance to Ball Carrier:</b> Calculated as the 2D slant range in yards. Calculated each frame using: \n",
    "</span>\n",
    "<div id=\"equation\" style=\"text-align: center;color:#626163; font-size:0.95em;\">\n",
    "For entities \\(i, j\\) with positions \\((x_{i}, y_{i})\\) and \\((x_{j}, y_{j})\\), the distance matrix \\(D\\) is given by:\n",
    "\n",
    "  <p>\\[ D_{ij} = \\sqrt{(x_{i} - x_{j})^2 + (y_{i} - y_{j})^2} \\]</p>\n",
    "</div>\n",
    "<span style=\"color:#626163; font-size:1.1em;\">\n",
    "    <b>Closing Speed:</b> Calculated as the difference in velocities accounting for angle of approach. Calculated each frame using: \n",
    "</span>\n",
    "<div id=\"equation\" style=\"text-align: center; color: #626163; font-size: 0.95em;\">\n",
    "  Let \\( v_1, h_1, v_2, h_2 \\) represent the velocities and headings of two entities. The closing speed (\\( CS \\)) can be calculated using the formula:\n",
    "\n",
    "  <p>\\[ CS = \\sqrt{ (v_2 \\cos(h_2) - v_1 \\cos(h_1))^2 + (v_2 \\sin(h_2) - v_1 \\sin(h_1))^2 } \\]</p>\n",
    "\n",
    "  <p style=\"text-align: center;\">Include the sign of the relative velocity:</p> \n",
    "\n",
    "  <p>\\[ CS = CS \\times \\text{sign}(v_2 \\cos(h_2) - v_1 \\cos(h_1)) \\]</p>\n",
    "</div>\n",
    "<span style=\"color:#626163; font-size:1.1em;\">\n",
    "    <b>Availability:</b> Calculated as the proximity of offensive blockers to defensive players. Sets defensive players to ineligible if they are too close to a offensive blocker. The logic can be expressed mathematically as follows:<br>\n",
    "    <div>\n",
    "  <p style=\"text-align: center;font-size:0.95em;\">For each frame \\( t \\):</p>\n",
    "  <ul style=\"font-size:0.95em;\">\n",
    "    <li style=\"text-indent: 12em;list-style-position: inside;\">Find the minimum value in the distance matrix \\( D \\) for each player.</li>\n",
    "    <li style=\"text-indent: 12em;list-style-position: inside;\">If the minimum distance from player \\( j \\) is less than twice the area of coverage* (\\( 2A \\)), remove the player.</li>\n",
    "  </ul>\n",
    "  <p style=\"text-align: center;font-size:0.95em;\">Mathematically, this can be written as:</p>\n",
    "  <p style=\"text-align: center;font-size:0.95em;\">For each frame \\( t \\):</p>\n",
    "  <p style=\"text-align: center;font-size:0.95em;\">\\( \\forall j \\quad \\text{if } \\min_i(D_{ij}) < 2A, \\text{ remove player } j \\)</p>\n",
    "  <p style=\"text-align: center;font-size:0.85em;\">Please note that the notation \\( \\min_i(D_{ij}) \\) represents the minimum value of each player \\( j \\) in the distance matrix \\( D \\).</p>\n",
    "  <p style=\"text-align: center;font-size:0.85em;\">*Area of coverage is the third quartile of the subset of recorded speeds greater than 1, <br>or one half standard deviation above the mean where stationary frames have been removed.</p>\n",
    "</div>\n",
    "\n",
    "</span>\n",
    "\n",
    "<script type=\"text/x-mathjax-config\">\n",
    "  MathJax.Hub.Config({ tex2jax: { inlineMath: [['$', '$'], ['\\\\(', '\\\\)']] } });\n",
    "</script>\n"
   ]
  },
  {
   "cell_type": "markdown",
   "id": "87e6be0e-9ce2-40e8-9f6c-ca2680597058",
   "metadata": {},
   "source": [
    "<span style=\"font-size:1.2em;text-indent: 2em;\">\n",
    "    <b>Summarizing in more basic terms:</b><br>\n",
    "<p style=\"color:#626163;text-indent: 2em;\">The defender closest to the ball carrier will be the most likely tackler except when:\n",
    "    <ul style=\"text-indent: 2em;list-style-position: inside;color:#626163;\">\n",
    "        <li>There is another defender up field. The closing speed while chasing is a fraction of two players running directly at each other</li>\n",
    "        <li>That player is being tied up by an offensive blocker that is protecting the ball carrier</li>\n",
    "</span>"
   ]
  },
  {
   "cell_type": "markdown",
   "id": "e91e717a-22c5-4e4a-9606-33f5298f8852",
   "metadata": {},
   "source": [
    "## Executing the Tackle"
   ]
  },
  {
   "cell_type": "markdown",
   "id": "90fd57b5-a5ae-4a71-a8ca-38101a3d7234",
   "metadata": {},
   "source": [
    "<span style=\"font-size:1.1em;color:#626163;\">\n",
    "    <p style=\"font-size:1.2em;color:#626163;\"><b>Counting Successes:</p>\n",
    "    <p>Now that we know who the most eligible tacklers should be, we need to find the ratio of plays as most (or second most) eligible tackler to the number of plays recorded as the actual tackler. This is performed by simply comparing the results of the eligible tackler calculation against the dataset of actual tackles and counting the number of times each player ID matches up.</p>\n",
    "<div class=\"equation\">\n",
    "  <p>Success Ratio:</p>\n",
    "  <p>\\[ \\text{Success Ratio} = \\frac{\\text{success\\_as\\_prime}}{\\text{calculated\\_as\\_prime}}\\]</p>\n",
    "</div>\n",
    "    \n",
    "    \n"
   ]
  },
  {
   "cell_type": "markdown",
   "id": "0222475b-bf31-4ac7-af86-b017fa8efce7",
   "metadata": {},
   "source": [
    "<span style=\"font-size:1.1em;color:#626163;\">\n",
    "<p style=\"font-size:1.2em;color:#626163;\"><b>Adjusting for Magnitude:</p>\n",
    "    Considering success rate alone does not properly evaluate a player's potential. For example, in baseball a player's batting average is simply the ratio representing the number of times they have been successful divided by the number of times they have been up to bat. But, if a player only bats once and hits the ball then they have a perfect batting average. It is safe to assume this does not make them the greatest player in the sport. Thus, we must scale our results to include magnitude. We will do that by using a contribution rate coefficient that represents their contribution to the total number of plays in the entire dataset.\n",
    "</span>"
   ]
  },
  {
   "cell_type": "markdown",
   "id": "e7e75d70-ef96-44ef-a726-d401a97e0b71",
   "metadata": {},
   "source": [
    "<span style=\"font-size:1.1em;color:#626163;\">\n",
    "<div class=\"equation\">\n",
    "  <p>Contribution Rate:</p>\n",
    "  <p>\\[ \\text{Contribution Rate} = \\frac{\\text{player\\_tackles}}{\\text{total\\_plays}} \\]</p>\n",
    "</div>\n",
    "\n",
    "<div class=\"equation\">\n",
    "  <p>Contribution Score:</p>\n",
    "  <p>\\[ \\text{Contribution Score} = \\text{Success Ratio} \\times \\text{Contribution Rate} \\times 1000 \\]</p>\n",
    "</div>\n",
    "\n",
    "\n",
    "</div>\n",
    "<p style=\"font-size:0.95em;text-align: right;\">*Multiplying by 1000 is for readability.</p>\n"
   ]
  },
  {
   "cell_type": "markdown",
   "id": "e14d8dd9-6be8-4c79-8ad0-eec412af1a79",
   "metadata": {},
   "source": [
    "<span style=\"font-size:1.1em;color:#626163;\">\n",
    "<p style=\"font-size:1.2em;color:#626163;\"><b>Remembering Opportunities:</p>\n",
    "    One of the biggest motivators behind this analysis is understanding how players execute on opportunities provided to them. Thus, it goes without saying that we should determine a method to evaluate the number of opportunities presented. Which is what we did for the \"calculated_as_prime\" above. However, what we have not considered yet is the quality of those opportunities. This is what we will call the Opportunity Score and it is simple measure of the average estimated time to reach the ball carrier given distance to ball carrier and closing speed. The method provides and inverse scale of opportunities. For example, if the defensive player calculated to have the highest Success Ratio and Contribution Score has a low Opportunity Score, then they were well positioned to make the majority of their tackles. In contrast, if their Opportunity Score was high, then they would have had to work more to reach the ball carrier. Adding this aspect prevents penalizing players for unreasonable tackling scenarios.\n",
    "</span>"
   ]
  },
  {
   "cell_type": "markdown",
   "id": "b70b7f55-86ca-4c58-a08b-aa66e1b89274",
   "metadata": {},
   "source": [
    "<span style=\"font-size:1.1em;color:#626163;\">\n",
    "<div class=\"equation\">\n",
    "  <p>Opportunity Score:</p>\n",
    "    <p>\\[ \\text{Opportunity Score} = \\frac{1}{N} \\sum_{i=frameId}^{N} \\left| \\frac{\\text{distance\\_to\\_ball\\_carrier}_i}{\\text{closing\\_speed}_i} \\right| \\]</p>\n",
    "\n",
    "</div>"
   ]
  },
  {
   "cell_type": "markdown",
   "id": "4ff170c5-9c31-44c3-b048-a6de576fdd55",
   "metadata": {},
   "source": [
    "<span style=\"font-size:1.1em;color:#626163;\">\n",
    "<p style=\"font-size:1.2em;color:#626163;\"><b>Combining the Scores to Determine Rating:</p>\n",
    "<p>\n",
    "    Once the Contribution Scores and the Opportunity Scores for all defensive players have been calculated for each play, they need to be combined to make an effective rating or ranking system. Therefore, the Contribution and Opportunity Scores were normalized as follows:\n",
    "</p>\n",
    "<div class=\"equation\">\n",
    "  <p>Normalized Score:</p>\n",
    "  <p>\\[ \\text{Score}_i = \\frac{\\text{Score}_i - \\text{Score}_{\\text{min}}}{\\text{Score}_{\\text{max}} - \\text{Score}_{\\text{min}}} \\]</p>\n",
    "</div>\n",
    "<p>\n",
    "    Once normalized the score were combine using equal weights. These calculations were performed for both the primary and secondary probable tacklers.\n",
    "</p>\n",
    "<div class=\"equation\">\n",
    "  <p>Player Rating:</p>\n",
    "  <p>\\[ \\text{Rating}_{\\text{player}} = \\text{Normalized\\_Contribution\\_Score}_{\\text{player}} \\times \\text{Normalized\\_Opportunity\\_Score}_{\\text{player}} \\]</p>\n",
    "</div>\n",
    "</span>"
   ]
  },
  {
   "cell_type": "markdown",
   "id": "4bfbd88c-0aee-4524-9dc5-f61167662914",
   "metadata": {},
   "source": [
    "## The Analysis in Action"
   ]
  },
  {
   "cell_type": "markdown",
   "id": "0893b3c4-0aa4-4968-b654-cd33b6f9ac91",
   "metadata": {},
   "source": [
    "<span style=\"font-size:1.4em;color:#626163;\">\n",
    "<center>\n",
    "    <img src=\"animated_vector_plot.gif\" alt=\"animated vector plot\">\n",
    "</center>\n",
    "</span>\n",
    "<span style=\"font-size:0.9em;color:#626163;\">\n",
    "<ul><b><u>Things to notice:</u></b>\n",
    "    <li><b>   Color:</b> The closer to red the more probable the defensive player is to be the primary tackler</li>\n",
    "    <li><b>   Opacity:</b> Same as color, the less translucence the more probable (also used to declutter)</li>\n",
    "    <li><b>   Velocity Sticks:</b> Used to show direction and speed of each player</li>\n",
    "    <li><b>   Blocking:</b> The probability color changes when defensive players get close to offensive players</lid>\n",
    "</ul>\n",
    "</span>\n",
    "    <br>\n",
    "<span style=\"font-size:1.2em;color:#626163;\">\n",
    "<h4>\n",
    "    Calculation Animation Summary:\n",
    "</h4>\n",
    "<p>\n",
    "    Each frame, each player is scored on being the most probable tackler using the methods previously described. The top two players are recorded in each frame as the play continues. The top two occurring players become the primary and secondary tacklers for that play. \n",
    "</p>\n",
    "</span>\n",
    "<span style=\"font-size:0.9em;color:#626163;\">\n",
    "<ul><b>Considerations:</b>\n",
    "    <li>  Frame Clipping (carrier): Frames where the ball carrier does not have the ball yet are removed from the analysis</li>\n",
    "    <li>  Frame Clipping (tackle): Frames after the tackle takes place are removed from the analysis</li>\n",
    "</ul>\n",
    "<p>\n",
    "</span>\n",
    "<span style=\"font-size:1.4em;color:#626163;\">\n",
    "<center>\n",
    "    <img src=\"animated_plot.gif\" alt=\"animated plot\">\n",
    "    Dolphins vs Vikings<br> \n",
    "    ['gameId'] == 2022101604 <br>\n",
    "    ['playId'] == 1264\n",
    "</center>"
   ]
  },
  {
   "cell_type": "markdown",
   "id": "ba21997b-8ebd-4fcf-a1e4-fcd6ae05a9ef",
   "metadata": {},
   "source": [
    "## Is Second Place Better?"
   ]
  },
  {
   "cell_type": "markdown",
   "id": "1f9ce082-0787-4f0a-ac10-df450e195307",
   "metadata": {},
   "source": [
    "<span style=\"font-size:1.1em;color:#626163;\">\n",
    "<p>Typically, we think of second place as inferior to first place. However, in this analysis being the most successful secondary tackler is just as impressive. That is because being the most successful secondary tackler implies the ability to pickup missed tackles. This is often referred to as a clutch player. However, here we will refer to them as Wingman.</p>\n",
    "<p>If the secondary tackler is going to be the Wingman, then the primary tacklers most appropriate title will be Ace. This is how the score titles of Ace Rating and Wingman Rating are defined.</p>\n",
    "    <ul>\n",
    "        <li><b><u>Ace Rating:</u></b> The ability to execute a large volume of tackles while minimizing missed opportunities</li>\n",
    "        <li><b><u>Wingman Rating:</u></b> The ability to follow up on a large volume missed opportunities</li>\n",
    "    </ul>\n",
    "<p style=\"font-size:1.15em;color:#626163;\">\n",
    "    In summary, being at the top of either of these lists is a sign of ability to read players, read plays, and operate with efficiency, consistency, and precision.\n",
    "</p>\n",
    "</span>"
   ]
  },
  {
   "cell_type": "markdown",
   "id": "59d3b49c-efe3-4d0d-9a2c-a00a3c2faa10",
   "metadata": {},
   "source": [
    "## The Numbers"
   ]
  },
  {
   "attachments": {},
   "cell_type": "markdown",
   "id": "c872f2e9-3d84-42f4-9116-b98ec429e8c4",
   "metadata": {},
   "source": [
    "<span style=\"font-size:1.1em;color:#626163;\">\n",
    "<p>When reviewing the following numbers,<b> please keep in mind, these are specific to tackling</b> in scenarios where the ball carrier already has the ball and the only objective is to stop the ball carrier. These ratings will likely disagree with industry rankings since this is just one small portion of what makes a well rounded defensive player.</p>\n",
    "<center>\n",
    "  <img src=\"aceStats.png\" alt=\"Ace top 20\">\n",
    "    <br><br><br> \n",
    "  <img src=\"wingmanStats.png\" alt=\"Wingman top 20\">\n",
    "</center>"
   ]
  },
  {
   "cell_type": "markdown",
   "id": "f22e796e-d2d5-4862-bf6c-cb84e4ba94f1",
   "metadata": {},
   "source": [
    "## Discussion"
   ]
  },
  {
   "cell_type": "markdown",
   "id": "53f9fef1-e16d-4593-ade4-d2d78fe71550",
   "metadata": {},
   "source": [
    "<span style=\"font-size:1.15em;color:#626163;\">\n",
    "<p>In essence, this analysis delves deep into the dynamics of tackles within NFL games, pushing beyond conventional statistics. We dissect the most eligible tacklers using straightforward metrics such as proximity to the ball carrier, closing speed, and general availability. The combination of these metrics, complemented by the Contribution Rate, provide a more holistic view of a player's impact—considering not only their success rate but also their overall contribution. <p>Moving away from the typical notion that \"first is best,\" we introduced the \"Ace Rating\" for the primary tackler and the \"Wingman Rating\" for the backup, revealing that being the Wingman is just as commendable, showcasing a player's proficiency in providing support to teammates. Topping the charts in either role indicates a player's adeptness in reading the game, maintaining reliability, and executing tackles with precision. This unique approach grants us a more robust understanding of how defensive players truly perform in the NFL.</p>\n",
    "<p>Looking ahead, the adaptability of this analysis opens avenues for further exploration. Beyond summarizing nine weeks of a season for this specific challenge, potential future considerations include creating weighted scores with critical tackle factors, scaling usage to per game or weekly metrics, and incorporating a fixed measuring standard for reviewing plays. By steering clear of a singular focus on sheer volume, this approach remains dynamic, allowing for tailored insights into the multifaceted nature of tackling success in the evolving landscape of NFL plays.</p>\n",
    "</span>"
   ]
  }
 ],
 "metadata": {
  "kernelspec": {
   "display_name": "Python 3 (ipykernel)",
   "language": "python",
   "name": "python3"
  },
  "language_info": {
   "codemirror_mode": {
    "name": "ipython",
    "version": 3
   },
   "file_extension": ".py",
   "mimetype": "text/x-python",
   "name": "python",
   "nbconvert_exporter": "python",
   "pygments_lexer": "ipython3",
   "version": "3.9.18"
  }
 },
 "nbformat": 4,
 "nbformat_minor": 5
}
